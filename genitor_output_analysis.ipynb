{
 "cells": [
  {
   "cell_type": "markdown",
   "id": "e015316d",
   "metadata": {},
   "source": [
    "# 1. Output analysis plots"
   ]
  },
  {
   "cell_type": "code",
   "execution_count": 1,
   "id": "8b51aecb",
   "metadata": {},
   "outputs": [],
   "source": [
    "import os\n",
    "import random\n",
    "import numpy as np\n",
    "import pandas as pd\n",
    "from matplotlib import figure, pyplot as plt"
   ]
  },
  {
   "cell_type": "code",
   "execution_count": 51,
   "id": "2c0e2839",
   "metadata": {},
   "outputs": [
    {
     "data": {
      "text/plain": [
       "['matrice12.txt']"
      ]
     },
     "execution_count": 51,
     "metadata": {},
     "output_type": "execute_result"
    }
   ],
   "source": [
    "lists = os.listdir(\"/home/ruslan_gumerov/genitor_new/matrices/rank_100_1/\")\n",
    "list_new = [[x, random.random()] for x in lists]\n",
    "list_new2 = [f[1]/sum([f[1] for f in list_new]) for f in list_new]\n",
    "input_matrix1 = random.choices([x[0] for x in list_new], weights=list_new2)\n",
    "input_matrix1"
   ]
  },
  {
   "cell_type": "code",
   "execution_count": 74,
   "id": "c71a1beb",
   "metadata": {},
   "outputs": [
    {
     "data": {
      "text/html": [
       "<div>\n",
       "<style scoped>\n",
       "    .dataframe tbody tr th:only-of-type {\n",
       "        vertical-align: middle;\n",
       "    }\n",
       "\n",
       "    .dataframe tbody tr th {\n",
       "        vertical-align: top;\n",
       "    }\n",
       "\n",
       "    .dataframe thead th {\n",
       "        text-align: right;\n",
       "    }\n",
       "</style>\n",
       "<table border=\"1\" class=\"dataframe\">\n",
       "  <thead>\n",
       "    <tr style=\"text-align: right;\">\n",
       "      <th></th>\n",
       "      <th>index</th>\n",
       "      <th>iteration_vec</th>\n",
       "      <th>RF_train</th>\n",
       "      <th>RF_val</th>\n",
       "    </tr>\n",
       "  </thead>\n",
       "  <tbody>\n",
       "    <tr>\n",
       "      <th>0</th>\n",
       "      <td>2</td>\n",
       "      <td>0</td>\n",
       "      <td>0.537223</td>\n",
       "      <td>0.609416</td>\n",
       "    </tr>\n",
       "    <tr>\n",
       "      <th>1</th>\n",
       "      <td>3</td>\n",
       "      <td>3</td>\n",
       "      <td>0.535444</td>\n",
       "      <td>0.608827</td>\n",
       "    </tr>\n",
       "    <tr>\n",
       "      <th>2</th>\n",
       "      <td>4</td>\n",
       "      <td>5</td>\n",
       "      <td>0.534557</td>\n",
       "      <td>0.608240</td>\n",
       "    </tr>\n",
       "    <tr>\n",
       "      <th>3</th>\n",
       "      <td>5</td>\n",
       "      <td>7</td>\n",
       "      <td>0.533223</td>\n",
       "      <td>0.609023</td>\n",
       "    </tr>\n",
       "    <tr>\n",
       "      <th>4</th>\n",
       "      <td>6</td>\n",
       "      <td>33</td>\n",
       "      <td>0.531112</td>\n",
       "      <td>0.608434</td>\n",
       "    </tr>\n",
       "    <tr>\n",
       "      <th>5</th>\n",
       "      <td>7</td>\n",
       "      <td>158</td>\n",
       "      <td>0.530778</td>\n",
       "      <td>0.611378</td>\n",
       "    </tr>\n",
       "    <tr>\n",
       "      <th>6</th>\n",
       "      <td>8</td>\n",
       "      <td>173</td>\n",
       "      <td>0.529779</td>\n",
       "      <td>0.609218</td>\n",
       "    </tr>\n",
       "    <tr>\n",
       "      <th>7</th>\n",
       "      <td>9</td>\n",
       "      <td>243</td>\n",
       "      <td>0.529224</td>\n",
       "      <td>0.608828</td>\n",
       "    </tr>\n",
       "    <tr>\n",
       "      <th>8</th>\n",
       "      <td>10</td>\n",
       "      <td>957</td>\n",
       "      <td>0.528889</td>\n",
       "      <td>0.610984</td>\n",
       "    </tr>\n",
       "    <tr>\n",
       "      <th>9</th>\n",
       "      <td>11</td>\n",
       "      <td>1181</td>\n",
       "      <td>0.528223</td>\n",
       "      <td>0.606279</td>\n",
       "    </tr>\n",
       "    <tr>\n",
       "      <th>10</th>\n",
       "      <td>12</td>\n",
       "      <td>2991</td>\n",
       "      <td>0.526445</td>\n",
       "      <td>0.611573</td>\n",
       "    </tr>\n",
       "    <tr>\n",
       "      <th>11</th>\n",
       "      <td>13</td>\n",
       "      <td>14341</td>\n",
       "      <td>0.525112</td>\n",
       "      <td>0.609219</td>\n",
       "    </tr>\n",
       "  </tbody>\n",
       "</table>\n",
       "</div>"
      ],
      "text/plain": [
       "    index  iteration_vec  RF_train    RF_val\n",
       "0       2              0  0.537223  0.609416\n",
       "1       3              3  0.535444  0.608827\n",
       "2       4              5  0.534557  0.608240\n",
       "3       5              7  0.533223  0.609023\n",
       "4       6             33  0.531112  0.608434\n",
       "5       7            158  0.530778  0.611378\n",
       "6       8            173  0.529779  0.609218\n",
       "7       9            243  0.529224  0.608828\n",
       "8      10            957  0.528889  0.610984\n",
       "9      11           1181  0.528223  0.606279\n",
       "10     12           2991  0.526445  0.611573\n",
       "11     13          14341  0.525112  0.609219"
      ]
     },
     "execution_count": 74,
     "metadata": {},
     "output_type": "execute_result"
    }
   ],
   "source": [
    "analysis_df = analysis_df.drop([0,1])\n",
    "analysis_df = analysis_df.reset_index()\n",
    "analysis_df"
   ]
  },
  {
   "cell_type": "markdown",
   "id": "2f079757",
   "metadata": {},
   "source": [
    "## 1.1 Create DF with outputs"
   ]
  },
  {
   "cell_type": "code",
   "execution_count": 88,
   "id": "1a124a42",
   "metadata": {},
   "outputs": [
    {
     "name": "stdout",
     "output_type": "stream",
     "text": [
      "['New', 'leader', 'matrix_515.txt,', '0.5352234000000001']\n",
      "['New', 'leader', 'matrix_517.txt,', '0.535001']\n",
      "['New', 'leader', 'matrix_534.txt,', '0.5347789000000001']\n",
      "['New', 'leader', 'matrix_548.txt,', '0.5333332000000001']\n",
      "['New', 'leader', 'matrix_622.txt,', '0.5331124']\n",
      "['New', 'leader', 'matrix_632.txt,', '0.532444']\n",
      "['New', 'leader', 'matrix_720.txt,', '0.5315565']\n",
      "['New', 'leader', 'matrix_821.txt,', '0.5303334']\n",
      "['New', 'leader', 'matrix_2001.txt,', '0.5273319999999999']\n",
      "['New', 'leader', 'matrix_2612.txt,', '0.5264447']\n"
     ]
    },
    {
     "data": {
      "text/html": [
       "<div>\n",
       "<style scoped>\n",
       "    .dataframe tbody tr th:only-of-type {\n",
       "        vertical-align: middle;\n",
       "    }\n",
       "\n",
       "    .dataframe tbody tr th {\n",
       "        vertical-align: top;\n",
       "    }\n",
       "\n",
       "    .dataframe thead th {\n",
       "        text-align: right;\n",
       "    }\n",
       "</style>\n",
       "<table border=\"1\" class=\"dataframe\">\n",
       "  <thead>\n",
       "    <tr style=\"text-align: right;\">\n",
       "      <th></th>\n",
       "      <th>iteration_vec</th>\n",
       "      <th>RF_train</th>\n",
       "      <th>RF_val</th>\n",
       "    </tr>\n",
       "  </thead>\n",
       "  <tbody>\n",
       "    <tr>\n",
       "      <th>0</th>\n",
       "      <td>15</td>\n",
       "      <td>0.535223</td>\n",
       "      <td>0.603926</td>\n",
       "    </tr>\n",
       "    <tr>\n",
       "      <th>1</th>\n",
       "      <td>17</td>\n",
       "      <td>0.535001</td>\n",
       "      <td>0.610591</td>\n",
       "    </tr>\n",
       "    <tr>\n",
       "      <th>2</th>\n",
       "      <td>34</td>\n",
       "      <td>0.534779</td>\n",
       "      <td>0.613336</td>\n",
       "    </tr>\n",
       "    <tr>\n",
       "      <th>3</th>\n",
       "      <td>48</td>\n",
       "      <td>0.533333</td>\n",
       "      <td>0.610594</td>\n",
       "    </tr>\n",
       "    <tr>\n",
       "      <th>4</th>\n",
       "      <td>122</td>\n",
       "      <td>0.533112</td>\n",
       "      <td>0.609806</td>\n",
       "    </tr>\n",
       "    <tr>\n",
       "      <th>5</th>\n",
       "      <td>132</td>\n",
       "      <td>0.532444</td>\n",
       "      <td>0.605688</td>\n",
       "    </tr>\n",
       "    <tr>\n",
       "      <th>6</th>\n",
       "      <td>220</td>\n",
       "      <td>0.531556</td>\n",
       "      <td>0.612752</td>\n",
       "    </tr>\n",
       "    <tr>\n",
       "      <th>7</th>\n",
       "      <td>321</td>\n",
       "      <td>0.530333</td>\n",
       "      <td>0.605689</td>\n",
       "    </tr>\n",
       "    <tr>\n",
       "      <th>8</th>\n",
       "      <td>1501</td>\n",
       "      <td>0.527332</td>\n",
       "      <td>0.610201</td>\n",
       "    </tr>\n",
       "    <tr>\n",
       "      <th>9</th>\n",
       "      <td>2112</td>\n",
       "      <td>0.526445</td>\n",
       "      <td>0.608043</td>\n",
       "    </tr>\n",
       "  </tbody>\n",
       "</table>\n",
       "</div>"
      ],
      "text/plain": [
       "   iteration_vec  RF_train    RF_val\n",
       "0             15  0.535223  0.603926\n",
       "1             17  0.535001  0.610591\n",
       "2             34  0.534779  0.613336\n",
       "3             48  0.533333  0.610594\n",
       "4            122  0.533112  0.609806\n",
       "5            132  0.532444  0.605688\n",
       "6            220  0.531556  0.612752\n",
       "7            321  0.530333  0.605689\n",
       "8           1501  0.527332  0.610201\n",
       "9           2112  0.526445  0.608043"
      ]
     },
     "execution_count": 88,
     "metadata": {},
     "output_type": "execute_result"
    }
   ],
   "source": [
    "PATH_TO_OUTPUT = \"/home/ruslan_gumerov/genitor_new/genitor_outputs/genitor_300matrices_test.out\"\n",
    "\n",
    "with open(PATH_TO_OUTPUT, \"r\") as inp:\n",
    "    iteration_vec = []\n",
    "    RF_train = []\n",
    "    RF_val = []\n",
    "    for line in inp:\n",
    "        line = line.strip().split(\" \")\n",
    "        if (line[0:2] == [\"New\", \"leader\"]):\n",
    "            #convert filename to iteration number (500 is a prefix, not to mess with initial matrices)\n",
    "            print(line)\n",
    "            iteration = int(line[2][0:-5].split(\"_\")[1]) - 500\n",
    "            iteration_vec.append(iteration)\n",
    "            RF_train.append(float(line[3]))\n",
    "        elif (line[0] == \"RF_val:\"):\n",
    "            RF_val.append(float(line[1]))\n",
    "            \n",
    "analysis_df = {\"iteration_vec\" : iteration_vec, \"RF_train\" : RF_train, \"RF_val\" : RF_val}\n",
    "analysis_df = pd.DataFrame(analysis_df)\n",
    "analysis_df"
   ]
  },
  {
   "cell_type": "markdown",
   "id": "8ff3ea08",
   "metadata": {},
   "source": [
    "## 1.2 Plot output DF"
   ]
  },
  {
   "cell_type": "code",
   "execution_count": 89,
   "id": "59a29f34",
   "metadata": {},
   "outputs": [
    {
     "data": {
      "image/png": "[encoded data removed]",
      "text/plain": [
       "<Figure size 640x480 with 1 Axes>"
      ]
     },
     "metadata": {
      "needs_background": "light"
     },
     "output_type": "display_data"
    }
   ],
   "source": [
    "plt.figure(figsize=(8, 6), dpi=80)\n",
    "plt.plot(analysis_df['RF_train'])\n",
    "plt.plot(analysis_df['RF_val'])\n",
    "plt.title('300 matrices, 1 mutation, ranked selection')\n",
    "plt.ylabel('RF')\n",
    "plt.xlabel('Iteration')\n",
    "plt.xticks(range(len(analysis_df[\"iteration_vec\"])), analysis_df[\"iteration_vec\"], rotation=30)\n",
    "plt.legend(['train', 'val'], loc='best')\n",
    "plt.show()"
   ]
  },
  {
   "cell_type": "code",
   "execution_count": 83,
   "id": "a168aa0e",
   "metadata": {},
   "outputs": [
    {
     "data": {
      "text/plain": [
       "0.6105923333333333"
      ]
     },
     "execution_count": 83,
     "metadata": {},
     "output_type": "execute_result"
    }
   ],
   "source": [
    "min_val = 10^9\n",
    "min_tr = 10^9\n",
    "if min(analysis_df[\"RF_val\"]) < min_val:\n",
    "    min_val = min(analysis_df[\"RF_val\"])\n",
    "if min(analysis_df[\"RF_train\"]) < min_tr:\n",
    "    min_tr = min(analysis_df[\"RF_train\"])"
   ]
  },
  {
   "cell_type": "code",
   "execution_count": 84,
   "id": "ba47c2ce",
   "metadata": {},
   "outputs": [
    {
     "data": {
      "text/plain": [
       "0    0.610592\n",
       "1    0.610984\n",
       "2    0.613534\n",
       "3    0.611572\n",
       "4    0.611769\n",
       "5    0.610592\n",
       "6    0.612945\n",
       "7    0.611573\n",
       "8    0.611377\n",
       "9    0.611180\n",
       "Name: RF_val, dtype: float64"
      ]
     },
     "execution_count": 84,
     "metadata": {},
     "output_type": "execute_result"
    }
   ],
   "source": [
    "analysis_df[\"RF_val\"]"
   ]
  },
  {
   "cell_type": "markdown",
   "id": "d4efc047",
   "metadata": {},
   "source": [
    "## 1.3 Get the smallest one"
   ]
  },
  {
   "cell_type": "code",
   "execution_count": 92,
   "id": "ec7da87b",
   "metadata": {},
   "outputs": [
    {
     "name": "stdout",
     "output_type": "stream",
     "text": [
      "final RF_val min 0.603926, file genitor_300matrices_test.out\n",
      "final RF_train min 0.5264447, file genitor_300matrices_test.out\n"
     ]
    }
   ],
   "source": [
    "PATH_TO_OUTPUT_FOLDER = \"/home/ruslan_gumerov/genitor_new/genitor_outputs/\"\n",
    "min_val = 10^9\n",
    "min_tr = 10^9\n",
    "\n",
    "for file in os.listdir(PATH_TO_OUTPUT_FOLDER):\n",
    "    iteration_vec = []\n",
    "    RF_train = []\n",
    "    RF_val = []\n",
    "    for line in inp:\n",
    "        line = line.strip().split(\" \")\n",
    "        if (line[0:2] == [\"New\", \"leader\"]):\n",
    "            #convert filename to iteration number (500 is a prefix, not to mess with initial matrices)\n",
    "            iteration = int(line[2][0:-5].split(\"_\")[1]) - 500\n",
    "            iteration_vec.append(iteration)\n",
    "            RF_train.append(float(line[3]))\n",
    "        elif (line[0] == \"RF_val:\"):\n",
    "            RF_val.append(float(line[1]))\n",
    "\n",
    "    analysis_df = {\"iteration_vec\" : iteration_vec, \"RF_train\" : RF_train, \"RF_val\" : RF_val}\n",
    "    analysis_df = pd.DataFrame(analysis_df)\n",
    "    \n",
    "    if min(analysis_df[\"RF_val\"]) < min_val:\n",
    "        file_val = file\n",
    "        min_val = min(analysis_df[\"RF_val\"])\n",
    "    if min(analysis_df[\"RF_train\"]) < min_tr:\n",
    "        file_train = file\n",
    "        min_tr = min(analysis_df[\"RF_train\"])\n",
    "\n",
    "print(f\"final RF_val min {min_val}, file {file_val}\")\n",
    "print(f\"final RF_train min {min_tr}, file {file_train}\")"
   ]
  },
  {
   "cell_type": "markdown",
   "id": "c747a2a8",
   "metadata": {},
   "source": [
    "## 1.4 Plot best RF for every serie"
   ]
  },
  {
   "cell_type": "code",
   "execution_count": 171,
   "id": "63a6b5eb",
   "metadata": {},
   "outputs": [
    {
     "name": "stdout",
     "output_type": "stream",
     "text": [
      "genitor 200 1\n",
      "genitor 200 3\n",
      "genitor 100 1\n",
      "genitor 100 3\n",
      "genitor 300 3\n",
      "genitor 200 2\n",
      "genitor 300 2\n",
      "genitor 100 2\n",
      "genitor 300 1\n"
     ]
    }
   ],
   "source": [
    "PATH_TO_OUTPUT_FOLDER = \"/home/ruslan_gumerov/genitor_new/genitor_outputs/\"\n",
    "\n",
    "main = {\"100\" : [], \"200\" : [], \"300\" : []}\n",
    "for file in os.listdir(PATH_TO_OUTPUT_FOLDER):\n",
    "    with open(f\"{PATH_TO_OUTPUT_FOLDER}{file}\") as inp:\n",
    "        RF_train = []\n",
    "        RF_val = []\n",
    "        for line in inp:\n",
    "            line = line.strip().split(\" \")\n",
    "            if (line[0:2] == [\"New\", \"leader\"]):\n",
    "                iteration = int(line[2][0:-5].split(\"_\")[1]) - 500\n",
    "                iteration_vec.append(iteration)\n",
    "                RF_train.append(float(line[3]))\n",
    "            elif (line[0] == \"RF_val:\"):\n",
    "                RF_val.append(float(line[1]))\n",
    "        typeof = os.path.splitext(file)[0].split(\"_\")[0]\n",
    "        mats = os.path.splitext(file)[0].split(\"_\")[1]\n",
    "        num = os.path.splitext(file)[0].split(\"_\")[2]\n",
    "        if typeof == \"genitor\":\n",
    "            if num != \"test\" and num != \"no\":\n",
    "                mats = mats[0:3]\n",
    "                num = num[0]\n",
    "                print(typeof, mats, num)\n",
    "                main[mats].append([int(num), [min(RF_val), min(RF_train)]])"
   ]
  },
  {
   "cell_type": "code",
   "execution_count": 155,
   "id": "cb81d406",
   "metadata": {},
   "outputs": [
    {
     "data": {
      "text/plain": [
       "['1', '2', '3', '10', '20']"
      ]
     },
     "execution_count": 155,
     "metadata": {},
     "output_type": "execute_result"
    }
   ],
   "source": [
    "[str(x[0]) for x in sorted(main[\"100\"])]"
   ]
  },
  {
   "cell_type": "code",
   "execution_count": 174,
   "id": "71ca73e1",
   "metadata": {},
   "outputs": [
    {
     "data": {
      "image/png": "[encoded data removed]",
      "text/plain": [
       "<Figure size 640x480 with 1 Axes>"
      ]
     },
     "metadata": {
      "needs_background": "light"
     },
     "output_type": "display_data"
    }
   ],
   "source": [
    "plt.figure(figsize=(8, 6), dpi=80)\n",
    "plt.plot([x[1][0] for x in sorted(main[\"100\"])])\n",
    "plt.plot([x[1][0] for x in sorted(main[\"200\"])])\n",
    "plt.plot([x[1][0] for x in sorted(main[\"300\"])])\n",
    "plt.title('RF val distribution')\n",
    "plt.ylabel('RF')\n",
    "plt.xlabel('N mut')\n",
    "plt.xticks([0, 1, 2], labels = [str(x[0]) for x in sorted(main[\"100\"])])\n",
    "plt.legend(['100', '200', '300'], loc='best')\n",
    "plt.show()"
   ]
  }
 ],
 "metadata": {
  "kernelspec": {
   "display_name": "Python 3 (ipykernel)",
   "language": "python",
   "name": "python3"
  },
  "language_info": {
   "codemirror_mode": {
    "name": "ipython",
    "version": 3
   },
   "file_extension": ".py",
   "mimetype": "text/x-python",
   "name": "python",
   "nbconvert_exporter": "python",
   "pygments_lexer": "ipython3",
   "version": "3.9.12"
  }
 },
 "nbformat": 4,
 "nbformat_minor": 5
}
